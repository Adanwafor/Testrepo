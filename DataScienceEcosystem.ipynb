{
 "cells": [
  {
   "cell_type": "markdown",
   "id": "cee6fc74-96b2-46cf-8784-3b1ce493564b",
   "metadata": {},
   "source": [
    "# Data Science Tools and Ecosystem"
   ]
  },
  {
   "cell_type": "markdown",
   "id": "a0211ff5-7bf3-438a-aa14-5e1e67328ddc",
   "metadata": {},
   "source": [
    "In this notebook, Data Science Tools and Ecosystem are summarized."
   ]
  },
  {
   "cell_type": "markdown",
   "id": "d5b25de9-7636-4662-a1c8-ab8fa4b813fc",
   "metadata": {},
   "source": [
    "**Objectives**:\n",
    "- List popular languages for data science.\n",
    "- List commonly used libraries in data science.\n",
    "- List development environment open source tools used in data science."
   ]
  },
  {
   "cell_type": "markdown",
   "id": "2267472a-c60a-49a0-bf02-cb8f59eb0f7a",
   "metadata": {},
   "source": [
    "Some of the popular languages that Data Scientists use are:\n",
    "1. SQL\n",
    "2. Python\n",
    "3. R Language"
   ]
  },
  {
   "cell_type": "markdown",
   "id": "71888dfb-ac9d-4fa2-8fc4-cc52c39a1998",
   "metadata": {},
   "source": [
    "Some of the commonly used libraries used by Data Scientists include:\n",
    "1. Scientific computing libraries in Python such as: Pandas\n",
    "2. Visualization libraries in Python such as: Matplotlib\n",
    "3. Maching and deep learning libraries in Python such as: Scikit Learn"
   ]
  },
  {
   "cell_type": "markdown",
   "id": "153aabf2-0864-4e99-ab2b-7517f012fe9a",
   "metadata": {},
   "source": [
    "| Data Science Tools |\n",
    "|--------------------|\n",
    "| R Studio |\n",
    "| Anaconda Navigator |\n",
    "| Jupyter IDE |"
   ]
  },
  {
   "cell_type": "markdown",
   "id": "f79202ba-adfe-4653-8641-43f8f801dd1b",
   "metadata": {},
   "source": [
    "### Below are a few examples of evaluating arithmetic expressions in Python"
   ]
  },
  {
   "cell_type": "code",
   "execution_count": 1,
   "id": "6e0463bc-a52c-4132-a821-fe9f45fb3a4c",
   "metadata": {},
   "outputs": [
    {
     "data": {
      "text/plain": [
       "17"
      ]
     },
     "execution_count": 1,
     "metadata": {},
     "output_type": "execute_result"
    }
   ],
   "source": [
    "# This a simple arithmetic expression to mutiply then add integers\n",
    "(3*4)+5"
   ]
  },
  {
   "cell_type": "code",
   "execution_count": 2,
   "id": "3079565a-1b49-44d6-acc1-c209d427d863",
   "metadata": {},
   "outputs": [
    {
     "data": {
      "text/plain": [
       "3.3333333333333335"
      ]
     },
     "execution_count": 2,
     "metadata": {},
     "output_type": "execute_result"
    }
   ],
   "source": [
    "# This will convert 200 minutes to hours by diving by 60\n",
    "200/60"
   ]
  },
  {
   "cell_type": "markdown",
   "id": "dcd7caa6-77c4-4a15-8bf1-d8713119387b",
   "metadata": {},
   "source": [
    "## Author\n",
    "Adaobi Nwafor"
   ]
  },
  {
   "cell_type": "code",
   "execution_count": null,
   "id": "5313f4c4-6603-485a-8c43-16a0a0b4258c",
   "metadata": {},
   "outputs": [],
   "source": []
  }
 ],
 "metadata": {
  "kernelspec": {
   "display_name": "Python 3 (ipykernel)",
   "language": "python",
   "name": "python3"
  },
  "language_info": {
   "codemirror_mode": {
    "name": "ipython",
    "version": 3
   },
   "file_extension": ".py",
   "mimetype": "text/x-python",
   "name": "python",
   "nbconvert_exporter": "python",
   "pygments_lexer": "ipython3",
   "version": "3.12.7"
  }
 },
 "nbformat": 4,
 "nbformat_minor": 5
}
